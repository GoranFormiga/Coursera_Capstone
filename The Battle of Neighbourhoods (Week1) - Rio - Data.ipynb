{
 "cells": [
  {
   "cell_type": "markdown",
   "metadata": {},
   "source": [
    "# The Battle of Neighbourhoods"
   ]
  },
  {
   "cell_type": "markdown",
   "metadata": {},
   "source": [
    "![Image](https:www.tupiniquimhostel.com.br/wp/wp-content/uploads/2016/11/Cristo-Redentor-800x250.jpg)"
   ]
  },
  {
   "cell_type": "markdown",
   "metadata": {},
   "source": [
    "## A study of the Rio de Janeiro City Brazilian Restaurants"
   ]
  },
  {
   "cell_type": "markdown",
   "metadata": {},
   "source": [
    "## Table of Content\n",
    "\n",
    "* [1. Introduction](#chapter1)\n",
    "    * [1.1 Purpose](#section_1_1)\n",
    "    * [1.2 Geographical location](#section_1_2)\n",
    "    * [1.3 Problem Description](#section_1_3)\n",
    "    * [1.4 Stakeholders](#section_1_4)\n",
    "* [2. Data](#chapter2)\n",
    "    * [2.1 Data Sources](#section_2_1)\n",
    "        * [2.1.1 Libraries and necessary dependencies](#section_2_1_1)\n",
    "        * [2.1.2 Rio de Janeiro Neighbourhood Data](#section_2_1_2)\n",
    "        * [2.1.3 Rio de Janeiro Population Data](#section_2_1_3)\n",
    "        * [2.1.4 Rio de Janeiro Foursquare Data](#section_2_1_4)\n",
    "        * [2.1.5 Methodology](#section_2_1_5)\n",
    "        "
   ]
  },
  {
   "cell_type": "markdown",
   "metadata": {},
   "source": [
    "## 1. Introduction <a class='anchor' id='chapter1'></a>"
   ]
  },
  {
   "cell_type": "markdown",
   "metadata": {},
   "source": [
    "### 1.1 Purpose <a class = 'anchor' id = 'section_1_1'></a>\n",
    ">This Jupyter notebook is part of the Course Assignment for the IBM Data Science Professional Certificate."
   ]
  },
  {
   "cell_type": "markdown",
   "metadata": {},
   "source": [
    "### 1.2 Geographical location <a class = 'anchor' id = 'section_1_2'></a>\n",
    ">Rio de Janeiro is the second most populous municipality in Brazil with 6.72 million inhabitants according to the 2019 statistics. There are 16 boroughs and 163 neighbourhoods in Rio de Janeiro. It is the capital of the state of Rio de Janeiro and has headquarters to Brazilian oil, mining and telecomunication companies. Rio de Janeiro is one of the most visitered cities in the South America and it is known for the \"Christ the Redeemer\" statue, the \"Sugarloaf\" Mountain, Carnaval, Samba, Bossa Nova and the beaches, https://en.wikipedia.org/wiki/Rio_de_Janeiro. An other interesting thing is the number of bars and restaurants with tastes from all over the world. We are going to focus our study on the Brazilian Restaurants in the following two  boroughs:\n",
    ">* The South Zone (Zona Sul), https://en.wikipedia.org/wiki/Rio_de_Janeiro#South_Zone\n",
    ">* Central Zone (Centro), https://en.wikipedia.org/wiki/Rio_de_Janeiro#Central_Zone\n",
    ">\n",
    ">These two boroughs have together 32 neighbourhoods that are common locations for the stakeholders involved in this study."
   ]
  },
  {
   "cell_type": "markdown",
   "metadata": {},
   "source": [
    "### 1.3 Problem Description <a class = 'anchor' id = 'section_1_3'></a>\n",
    ">The big challenge for a restaurant invester is to know where to invest in a particular restaurant category and where to place the restaurant to get the best result of the investment. For the investor several factors must be taken into account such as:\n",
    ">\n",
    ">* Who are the competitors in each borough/neighbourhood?\n",
    ">* Which pricing do they have?\n",
    ">* What is their Menu?\n",
    ">* What type of clients local, turists, etc are there in each location?\n",
    ">* What kind of borough/neigbourhood, residencial or business area?\n",
    ">* How many competitors for each restaurant category?\n",
    ">* etc.\n",
    ">\n",
    ">For a tourist, with the taste for restaurants of the visited city, the challenge is to find the best spot and location and therefore other factors are important such as:\n",
    ">* What restaurant categories are there in each borough/neigbourhood?\n",
    ">* The distance to each restaurant of interest?\n",
    ">* etc.\n",
    ">\n",
    ">We are going to focus our study to investigate the Brazilian Restaurant categories in different boroughs and neigbourhoods. Besides Brazilian restaurants with regional dishes we will see that there are several Brazilian restaurants with specialities such as, Acai, Churrasco, Empada, Pastelaria and Tapioca.\n",
    ">\n",
    ">By using some Data Science techniques we will study these restaurant categories and locations and as result, make some observations and recommendations according to our findings."
   ]
  },
  {
   "cell_type": "markdown",
   "metadata": {},
   "source": [
    "### 1.4 Stakeholders <a class = 'anchor' id = 'section_1_4'></a>\n",
    "> The people who would be interested in this study will be investers in the Brazilian Restaurant Business but also turists who would like to know the best loction and what kind of Brazilian restaurants that are available of their interest in the two different boroughs, \"The South Zone\" and the \"Central Zone\" of Rio de Janeiro."
   ]
  },
  {
   "cell_type": "markdown",
   "metadata": {},
   "source": [
    "## 2. Data <a class = 'anchor' id ='chapter2'></a>"
   ]
  },
  {
   "cell_type": "markdown",
   "metadata": {},
   "source": [
    "### 2.1 Data Sources <a class = 'anchor' id = 'section_2_1'></a>\n",
    ">To make the Brazilian Restaurant study we will need following data of Rio de Janeiro:\n",
    ">* Neighbourhood Data\n",
    ">* Population Data\n",
    ">* Brazilian Restaurant Categories  "
   ]
  },
  {
   "cell_type": "markdown",
   "metadata": {},
   "source": [
    "#### 2.1.1 Libraries and necessary dependencies <a class = 'anchor' id = 'section_2_1_1'></a>"
   ]
  },
  {
   "cell_type": "markdown",
   "metadata": {},
   "source": [
    ">Following Libraries and dependencies will be needed to explore the Neighbourhood Data, the Population Data and the Brazilian Restaurant Categories of Rio de Janeiro:"
   ]
  },
  {
   "cell_type": "code",
   "execution_count": 1,
   "metadata": {
    "collapsed": false,
    "jupyter": {
     "outputs_hidden": false
    }
   },
   "outputs": [
    {
     "name": "stdout",
     "output_type": "stream",
     "text": [
      "Dependencies downloaded\n"
     ]
    }
   ],
   "source": [
    "import warnings\n",
    "warnings.filterwarnings('ignore')\n",
    "\n",
    "# For Numpy and Pandas Handling\n",
    "import numpy as np\n",
    "import pandas as pd\n",
    "\n",
    "# For Geopandas handling\n",
    "#!conda install -c conda-forge geopandas=0.3.0 --yes # Uncomment if not yet installed\n",
    "#!conda install -c conda-forge geoplot=0.2.3 --yes # Uncomment this if not yet installed\n",
    "#!conda install -c conda-forge geopy --yes # Uncomment this line if not yet installed\n",
    "import geopandas as gpd\n",
    "from geopy.geocoders import Nominatim # convert an address into latitude and longitude values\n",
    "from geopandas import GeoSeries\n",
    "from shapely.geometry.polygon import Polygon\n",
    "from shapely.geometry.multipolygon import MultiPolygon\n",
    "\n",
    "# To handle JSON files and requests\n",
    "import requests\n",
    "import json\n",
    "\n",
    "# For plot handling\n",
    "import matplotlib.cm as cm\n",
    "import matplotlib.colors as colors\n",
    "import matplotlib.pyplot as plt\n",
    "\n",
    "# For K-means from clustering handling\n",
    "from sklearn.cluster import KMeans\n",
    "from sklearn.datasets import make_blobs\n",
    "from yellowbrick.cluster import KElbowVisualizer\n",
    "\n",
    "# For map handling\n",
    "#!conda install -c conda-forge folium=0.7.0 --yes # Uncomment if not yet installed\n",
    "import folium\n",
    "\n",
    "print('Dependencies downloaded')"
   ]
  },
  {
   "cell_type": "markdown",
   "metadata": {},
   "source": [
    "#### 2.1.2 Rio de Janeiro Neighbourhood Data <a class = 'anchor' id = 'section_2_1_2'></a>"
   ]
  },
  {
   "cell_type": "markdown",
   "metadata": {},
   "source": [
    "> The Data for the 'Neighbourhood' will come from the open source portal: www.data.rio\n",
    ">\n",
    "> The Dataset will be downloaded from www.data.rio/datasets/limite-de-bairros/data?geometry=-44.357%2C-23.138%2C-42.533%2C-22.695 \n",
    "via following GeoJSON file: https://opendata.arcgis.com/datasets/dc94b29fc3594a5bb4d297bee0c9a3f2_15.geojson"
   ]
  },
  {
   "cell_type": "markdown",
   "metadata": {},
   "source": [
    "##### 2.1.2.1 The Dataset for the Neighbourhoods"
   ]
  },
  {
   "cell_type": "code",
   "execution_count": 2,
   "metadata": {
    "scrolled": true
   },
   "outputs": [],
   "source": [
    "RioNeighbourhoodUrl = 'https://opendata.arcgis.com/datasets/dc94b29fc3594a5bb4d297bee0c9a3f2_15.geojson'"
   ]
  },
  {
   "cell_type": "code",
   "execution_count": 3,
   "metadata": {},
   "outputs": [],
   "source": [
    "RioNeighbourhoodFeatures = requests.get(RioNeighbourhoodUrl).json()"
   ]
  },
  {
   "cell_type": "code",
   "execution_count": 4,
   "metadata": {
    "collapsed": false,
    "jupyter": {
     "outputs_hidden": false
    }
   },
   "outputs": [
    {
     "data": {
      "text/html": [
       "<div>\n",
       "<style scoped>\n",
       "    .dataframe tbody tr th:only-of-type {\n",
       "        vertical-align: middle;\n",
       "    }\n",
       "\n",
       "    .dataframe tbody tr th {\n",
       "        vertical-align: top;\n",
       "    }\n",
       "\n",
       "    .dataframe thead th {\n",
       "        text-align: right;\n",
       "    }\n",
       "</style>\n",
       "<table border=\"1\" class=\"dataframe\">\n",
       "  <thead>\n",
       "    <tr style=\"text-align: right;\">\n",
       "      <th></th>\n",
       "      <th>OBJECTID</th>\n",
       "      <th>Área</th>\n",
       "      <th>NOME</th>\n",
       "      <th>REGIAO_ADM</th>\n",
       "      <th>AREA_PLANE</th>\n",
       "      <th>CODBAIRRO</th>\n",
       "      <th>CODRA</th>\n",
       "      <th>CODBNUM</th>\n",
       "      <th>LINK</th>\n",
       "      <th>RP</th>\n",
       "      <th>Cod_RP</th>\n",
       "      <th>CODBAIRRO_LONG</th>\n",
       "      <th>SHAPESTArea</th>\n",
       "      <th>SHAPESTLength</th>\n",
       "      <th>geometry</th>\n",
       "    </tr>\n",
       "  </thead>\n",
       "  <tbody>\n",
       "    <tr>\n",
       "      <th>0</th>\n",
       "      <td>325</td>\n",
       "      <td>1.705685e+06</td>\n",
       "      <td>Paquetá</td>\n",
       "      <td>PAQUETA</td>\n",
       "      <td>1</td>\n",
       "      <td>013</td>\n",
       "      <td>21</td>\n",
       "      <td>13</td>\n",
       "      <td>Paqueta&amp;area=013                              ...</td>\n",
       "      <td>Centro</td>\n",
       "      <td>1.1</td>\n",
       "      <td>13</td>\n",
       "      <td>1.705685e+06</td>\n",
       "      <td>24841.426669</td>\n",
       "      <td>MULTIPOLYGON (((-43.10567 -22.74888, -43.10568...</td>\n",
       "    </tr>\n",
       "    <tr>\n",
       "      <th>1</th>\n",
       "      <td>326</td>\n",
       "      <td>4.056403e+06</td>\n",
       "      <td>Freguesia (Ilha)</td>\n",
       "      <td>ILHA DO GOVERNADOR</td>\n",
       "      <td>3</td>\n",
       "      <td>098</td>\n",
       "      <td>20</td>\n",
       "      <td>98</td>\n",
       "      <td>Freguesia (Ilha)          &amp;area=98            ...</td>\n",
       "      <td>Ilha do Governador</td>\n",
       "      <td>3.7</td>\n",
       "      <td>98</td>\n",
       "      <td>4.056403e+06</td>\n",
       "      <td>18303.595717</td>\n",
       "      <td>MULTIPOLYGON (((-43.17170 -22.77661, -43.17170...</td>\n",
       "    </tr>\n",
       "    <tr>\n",
       "      <th>2</th>\n",
       "      <td>327</td>\n",
       "      <td>9.780465e+05</td>\n",
       "      <td>Bancários</td>\n",
       "      <td>ILHA DO GOVERNADOR</td>\n",
       "      <td>3</td>\n",
       "      <td>097</td>\n",
       "      <td>20</td>\n",
       "      <td>97</td>\n",
       "      <td>Bancários                 &amp;area=97            ...</td>\n",
       "      <td>Ilha do Governador</td>\n",
       "      <td>3.7</td>\n",
       "      <td>97</td>\n",
       "      <td>9.780465e+05</td>\n",
       "      <td>7758.781282</td>\n",
       "      <td>MULTIPOLYGON (((-43.18915 -22.78318, -43.18915...</td>\n",
       "    </tr>\n",
       "    <tr>\n",
       "      <th>3</th>\n",
       "      <td>328</td>\n",
       "      <td>1.895742e+07</td>\n",
       "      <td>Galeão</td>\n",
       "      <td>ILHA DO GOVERNADOR</td>\n",
       "      <td>3</td>\n",
       "      <td>104</td>\n",
       "      <td>20</td>\n",
       "      <td>104</td>\n",
       "      <td>Galeão                    &amp;area=104           ...</td>\n",
       "      <td>Ilha do Governador</td>\n",
       "      <td>3.7</td>\n",
       "      <td>104</td>\n",
       "      <td>1.895742e+07</td>\n",
       "      <td>21510.059220</td>\n",
       "      <td>MULTIPOLYGON (((-43.22804 -22.78374, -43.22811...</td>\n",
       "    </tr>\n",
       "    <tr>\n",
       "      <th>4</th>\n",
       "      <td>329</td>\n",
       "      <td>1.672546e+06</td>\n",
       "      <td>Tauá</td>\n",
       "      <td>ILHA DO GOVERNADOR</td>\n",
       "      <td>3</td>\n",
       "      <td>101</td>\n",
       "      <td>20</td>\n",
       "      <td>101</td>\n",
       "      <td>Tauá                      &amp;area=101           ...</td>\n",
       "      <td>Ilha do Governador</td>\n",
       "      <td>3.7</td>\n",
       "      <td>101</td>\n",
       "      <td>1.672546e+06</td>\n",
       "      <td>8246.109606</td>\n",
       "      <td>POLYGON ((-43.18039 -22.79940, -43.18022 -22.7...</td>\n",
       "    </tr>\n",
       "  </tbody>\n",
       "</table>\n",
       "</div>"
      ],
      "text/plain": [
       "   OBJECTID          Área                        NOME  \\\n",
       "0       325  1.705685e+06  Paquetá                      \n",
       "1       326  4.056403e+06  Freguesia (Ilha)             \n",
       "2       327  9.780465e+05  Bancários                    \n",
       "3       328  1.895742e+07  Galeão                       \n",
       "4       329  1.672546e+06  Tauá                         \n",
       "\n",
       "                 REGIAO_ADM AREA_PLANE CODBAIRRO  CODRA  CODBNUM  \\\n",
       "0  PAQUETA                           1       013     21       13   \n",
       "1  ILHA DO GOVERNADOR                3       098     20       98   \n",
       "2  ILHA DO GOVERNADOR                3       097     20       97   \n",
       "3  ILHA DO GOVERNADOR                3       104     20      104   \n",
       "4  ILHA DO GOVERNADOR                3       101     20      101   \n",
       "\n",
       "                                                LINK                  RP  \\\n",
       "0  Paqueta&area=013                              ...              Centro   \n",
       "1  Freguesia (Ilha)          &area=98            ...  Ilha do Governador   \n",
       "2  Bancários                 &area=97            ...  Ilha do Governador   \n",
       "3  Galeão                    &area=104           ...  Ilha do Governador   \n",
       "4  Tauá                      &area=101           ...  Ilha do Governador   \n",
       "\n",
       "  Cod_RP  CODBAIRRO_LONG   SHAPESTArea  SHAPESTLength  \\\n",
       "0    1.1              13  1.705685e+06   24841.426669   \n",
       "1    3.7              98  4.056403e+06   18303.595717   \n",
       "2    3.7              97  9.780465e+05    7758.781282   \n",
       "3    3.7             104  1.895742e+07   21510.059220   \n",
       "4    3.7             101  1.672546e+06    8246.109606   \n",
       "\n",
       "                                            geometry  \n",
       "0  MULTIPOLYGON (((-43.10567 -22.74888, -43.10568...  \n",
       "1  MULTIPOLYGON (((-43.17170 -22.77661, -43.17170...  \n",
       "2  MULTIPOLYGON (((-43.18915 -22.78318, -43.18915...  \n",
       "3  MULTIPOLYGON (((-43.22804 -22.78374, -43.22811...  \n",
       "4  POLYGON ((-43.18039 -22.79940, -43.18022 -22.7...  "
      ]
     },
     "execution_count": 4,
     "metadata": {},
     "output_type": "execute_result"
    }
   ],
   "source": [
    "RioNeighbourhoodData = gpd.GeoDataFrame.from_file(RioNeighbourhoodUrl)\n",
    "RioNeighbourhoodData.head()"
   ]
  },
  {
   "cell_type": "markdown",
   "metadata": {},
   "source": [
    ">We can observe that downloaded Neighbourhood Data has more columns than we need for analysis and the columns that will be used need to be renamed for better understanding.\n",
    ">The only columns needed are following:\n",
    ">* 'RP' which will be named 'Borough'\n",
    ">* 'NOME' which will be named 'Neighbourhood'\n",
    ">* 'geometry' which is the polygon data of the Neighbourhood"
   ]
  },
  {
   "cell_type": "markdown",
   "metadata": {},
   "source": [
    "##### 2.1.2.2 Drop, rename and reorder Columns"
   ]
  },
  {
   "cell_type": "code",
   "execution_count": 5,
   "metadata": {},
   "outputs": [
    {
     "data": {
      "text/html": [
       "<div>\n",
       "<style scoped>\n",
       "    .dataframe tbody tr th:only-of-type {\n",
       "        vertical-align: middle;\n",
       "    }\n",
       "\n",
       "    .dataframe tbody tr th {\n",
       "        vertical-align: top;\n",
       "    }\n",
       "\n",
       "    .dataframe thead th {\n",
       "        text-align: right;\n",
       "    }\n",
       "</style>\n",
       "<table border=\"1\" class=\"dataframe\">\n",
       "  <thead>\n",
       "    <tr style=\"text-align: right;\">\n",
       "      <th></th>\n",
       "      <th>Borough</th>\n",
       "      <th>Neighbourhood</th>\n",
       "      <th>geometry</th>\n",
       "    </tr>\n",
       "  </thead>\n",
       "  <tbody>\n",
       "    <tr>\n",
       "      <th>0</th>\n",
       "      <td>Centro</td>\n",
       "      <td>Paquetá</td>\n",
       "      <td>MULTIPOLYGON (((-43.10567 -22.74888, -43.10568...</td>\n",
       "    </tr>\n",
       "    <tr>\n",
       "      <th>1</th>\n",
       "      <td>Ilha do Governador</td>\n",
       "      <td>Freguesia (Ilha)</td>\n",
       "      <td>MULTIPOLYGON (((-43.17170 -22.77661, -43.17170...</td>\n",
       "    </tr>\n",
       "    <tr>\n",
       "      <th>2</th>\n",
       "      <td>Ilha do Governador</td>\n",
       "      <td>Bancários</td>\n",
       "      <td>MULTIPOLYGON (((-43.18915 -22.78318, -43.18915...</td>\n",
       "    </tr>\n",
       "    <tr>\n",
       "      <th>3</th>\n",
       "      <td>Ilha do Governador</td>\n",
       "      <td>Galeão</td>\n",
       "      <td>MULTIPOLYGON (((-43.22804 -22.78374, -43.22811...</td>\n",
       "    </tr>\n",
       "    <tr>\n",
       "      <th>4</th>\n",
       "      <td>Ilha do Governador</td>\n",
       "      <td>Tauá</td>\n",
       "      <td>POLYGON ((-43.18039 -22.79940, -43.18022 -22.7...</td>\n",
       "    </tr>\n",
       "  </tbody>\n",
       "</table>\n",
       "</div>"
      ],
      "text/plain": [
       "              Borough               Neighbourhood  \\\n",
       "0              Centro  Paquetá                      \n",
       "1  Ilha do Governador  Freguesia (Ilha)             \n",
       "2  Ilha do Governador  Bancários                    \n",
       "3  Ilha do Governador  Galeão                       \n",
       "4  Ilha do Governador  Tauá                         \n",
       "\n",
       "                                            geometry  \n",
       "0  MULTIPOLYGON (((-43.10567 -22.74888, -43.10568...  \n",
       "1  MULTIPOLYGON (((-43.17170 -22.77661, -43.17170...  \n",
       "2  MULTIPOLYGON (((-43.18915 -22.78318, -43.18915...  \n",
       "3  MULTIPOLYGON (((-43.22804 -22.78374, -43.22811...  \n",
       "4  POLYGON ((-43.18039 -22.79940, -43.18022 -22.7...  "
      ]
     },
     "execution_count": 5,
     "metadata": {},
     "output_type": "execute_result"
    }
   ],
   "source": [
    "RioNeighbourhoodDataReduced = RioNeighbourhoodData.copy()\n",
    "RioNeighbourhoodDataReduced.drop(columns = ['OBJECTID', 'Área', 'REGIAO_ADM', 'AREA_PLANE', 'CODBAIRRO', 'CODRA', 'CODBNUM', 'LINK','Cod_RP','CODBAIRRO_LONG','SHAPESTArea','SHAPESTLength'], inplace = True)\n",
    "RioNeighbourhoodDataReduced.rename(columns = {'NOME': 'Neighbourhood', 'RP': 'Borough'}, inplace = True)\n",
    "RioNeighbourhoodDataReduced = RioNeighbourhoodDataReduced[['Borough','Neighbourhood','geometry']]\n",
    "RioNeighbourhoodDataReduced.head()"
   ]
  },
  {
   "cell_type": "markdown",
   "metadata": {},
   "source": [
    ">This is the Neighbourhood Dataset that we will performe Data Wrangling and explore more."
   ]
  },
  {
   "cell_type": "markdown",
   "metadata": {},
   "source": [
    "#### 2.1.3 Rio de Janeiro Population Data <a class = 'anchor' id = 'section_2_1_3'></a>"
   ]
  },
  {
   "cell_type": "markdown",
   "metadata": {},
   "source": [
    ">The Data for the neighbourhood 'Population' numbers will come from the govermental site IBGE (Brazilian Institute of Geography and Statistics): https://www.ibge.gov.br\n",
    ">\n",
    ">The Dataset will be constructed and downloaded from https://sidra.ibge.gov.br/Tabela/3175 via following csv file:https://sidra.ibge.gov.br/geratabela?format=us.csv&name=tabela3175.csv&terr=NS&rank=-&query=t/3175/n102/all/v/allxp/p/all/c86/0/c1/0/c2/0/c287/0/l/v,p%2Bc86%2Bc1,t%2Bc2%2Bc287&measurescol=true"
   ]
  },
  {
   "cell_type": "markdown",
   "metadata": {},
   "source": [
    "##### 2.1.3.1 The Dataset for the population"
   ]
  },
  {
   "cell_type": "code",
   "execution_count": 6,
   "metadata": {},
   "outputs": [],
   "source": [
    "BrazilPopulationPerNeighbourhoodUrl = 'https://sidra.ibge.gov.br/geratabela?format=us.csv&name=tabela3175.csv&terr=NS&rank=-&query=t/3175/n102/all/v/allxp/p/all/c86/0/c1/0/c2/0/c287/0/l/v,p%2Bc86%2Bc1,t%2Bc2%2Bc287&measurescol=true'"
   ]
  },
  {
   "cell_type": "code",
   "execution_count": 7,
   "metadata": {},
   "outputs": [],
   "source": [
    "BrazilPopulationPerNeighbourhoodData = pd.read_csv(BrazilPopulationPerNeighbourhoodUrl,skiprows = 5)"
   ]
  },
  {
   "cell_type": "code",
   "execution_count": 8,
   "metadata": {},
   "outputs": [
    {
     "data": {
      "text/html": [
       "<div>\n",
       "<style scoped>\n",
       "    .dataframe tbody tr th:only-of-type {\n",
       "        vertical-align: middle;\n",
       "    }\n",
       "\n",
       "    .dataframe tbody tr th {\n",
       "        vertical-align: top;\n",
       "    }\n",
       "\n",
       "    .dataframe thead th {\n",
       "        text-align: right;\n",
       "    }\n",
       "</style>\n",
       "<table border=\"1\" class=\"dataframe\">\n",
       "  <thead>\n",
       "    <tr style=\"text-align: right;\">\n",
       "      <th></th>\n",
       "      <th>Nível</th>\n",
       "      <th>Bairro</th>\n",
       "      <th>Sexo</th>\n",
       "      <th>Idade</th>\n",
       "      <th>Total</th>\n",
       "    </tr>\n",
       "  </thead>\n",
       "  <tbody>\n",
       "    <tr>\n",
       "      <th>0</th>\n",
       "      <td>BA</td>\n",
       "      <td>Centro - Alta Floresta D'Oeste (RO)</td>\n",
       "      <td>Total</td>\n",
       "      <td>Total</td>\n",
       "      <td>1960</td>\n",
       "    </tr>\n",
       "    <tr>\n",
       "      <th>1</th>\n",
       "      <td>BA</td>\n",
       "      <td>Liberdade - Alta Floresta D'Oeste (RO)</td>\n",
       "      <td>Total</td>\n",
       "      <td>Total</td>\n",
       "      <td>1075</td>\n",
       "    </tr>\n",
       "    <tr>\n",
       "      <th>2</th>\n",
       "      <td>BA</td>\n",
       "      <td>Cidade Alta - Alta Floresta D'Oeste (RO)</td>\n",
       "      <td>Total</td>\n",
       "      <td>Total</td>\n",
       "      <td>1175</td>\n",
       "    </tr>\n",
       "    <tr>\n",
       "      <th>3</th>\n",
       "      <td>BA</td>\n",
       "      <td>Santa Felicidade - Alta Floresta D'Oeste (RO)</td>\n",
       "      <td>Total</td>\n",
       "      <td>Total</td>\n",
       "      <td>2833</td>\n",
       "    </tr>\n",
       "    <tr>\n",
       "      <th>4</th>\n",
       "      <td>BA</td>\n",
       "      <td>Princesa Isabel - Alta Floresta D'Oeste (RO)</td>\n",
       "      <td>Total</td>\n",
       "      <td>Total</td>\n",
       "      <td>3067</td>\n",
       "    </tr>\n",
       "  </tbody>\n",
       "</table>\n",
       "</div>"
      ],
      "text/plain": [
       "  Nível                                         Bairro   Sexo  Idade Total\n",
       "0    BA            Centro - Alta Floresta D'Oeste (RO)  Total  Total  1960\n",
       "1    BA         Liberdade - Alta Floresta D'Oeste (RO)  Total  Total  1075\n",
       "2    BA       Cidade Alta - Alta Floresta D'Oeste (RO)  Total  Total  1175\n",
       "3    BA  Santa Felicidade - Alta Floresta D'Oeste (RO)  Total  Total  2833\n",
       "4    BA   Princesa Isabel - Alta Floresta D'Oeste (RO)  Total  Total  3067"
      ]
     },
     "execution_count": 8,
     "metadata": {},
     "output_type": "execute_result"
    }
   ],
   "source": [
    "BrazilPopulationPerNeighbourhoodData.head()"
   ]
  },
  {
   "cell_type": "markdown",
   "metadata": {},
   "source": [
    ">We can observe that downloaded Population Data has more columns than we need for the analysis and the columns that will be used need to be renamed for better understanding.\n",
    ">\n",
    ">The columns that will be needed for exploration are the following:\n",
    ">* 'Bairro' which will be named 'NeighbourhoodComposed'\n",
    ">* 'Total' which will be named 'Population'"
   ]
  },
  {
   "cell_type": "markdown",
   "metadata": {},
   "source": [
    "##### 2.1.3.2 Drop and rename Columns"
   ]
  },
  {
   "cell_type": "code",
   "execution_count": 9,
   "metadata": {},
   "outputs": [
    {
     "data": {
      "text/html": [
       "<div>\n",
       "<style scoped>\n",
       "    .dataframe tbody tr th:only-of-type {\n",
       "        vertical-align: middle;\n",
       "    }\n",
       "\n",
       "    .dataframe tbody tr th {\n",
       "        vertical-align: top;\n",
       "    }\n",
       "\n",
       "    .dataframe thead th {\n",
       "        text-align: right;\n",
       "    }\n",
       "</style>\n",
       "<table border=\"1\" class=\"dataframe\">\n",
       "  <thead>\n",
       "    <tr style=\"text-align: right;\">\n",
       "      <th></th>\n",
       "      <th>NeighbourhoodComposed</th>\n",
       "      <th>Population</th>\n",
       "    </tr>\n",
       "  </thead>\n",
       "  <tbody>\n",
       "    <tr>\n",
       "      <th>0</th>\n",
       "      <td>Centro - Alta Floresta D'Oeste (RO)</td>\n",
       "      <td>1960</td>\n",
       "    </tr>\n",
       "    <tr>\n",
       "      <th>1</th>\n",
       "      <td>Liberdade - Alta Floresta D'Oeste (RO)</td>\n",
       "      <td>1075</td>\n",
       "    </tr>\n",
       "    <tr>\n",
       "      <th>2</th>\n",
       "      <td>Cidade Alta - Alta Floresta D'Oeste (RO)</td>\n",
       "      <td>1175</td>\n",
       "    </tr>\n",
       "    <tr>\n",
       "      <th>3</th>\n",
       "      <td>Santa Felicidade - Alta Floresta D'Oeste (RO)</td>\n",
       "      <td>2833</td>\n",
       "    </tr>\n",
       "    <tr>\n",
       "      <th>4</th>\n",
       "      <td>Princesa Isabel - Alta Floresta D'Oeste (RO)</td>\n",
       "      <td>3067</td>\n",
       "    </tr>\n",
       "  </tbody>\n",
       "</table>\n",
       "</div>"
      ],
      "text/plain": [
       "                           NeighbourhoodComposed Population\n",
       "0            Centro - Alta Floresta D'Oeste (RO)       1960\n",
       "1         Liberdade - Alta Floresta D'Oeste (RO)       1075\n",
       "2       Cidade Alta - Alta Floresta D'Oeste (RO)       1175\n",
       "3  Santa Felicidade - Alta Floresta D'Oeste (RO)       2833\n",
       "4   Princesa Isabel - Alta Floresta D'Oeste (RO)       3067"
      ]
     },
     "execution_count": 9,
     "metadata": {},
     "output_type": "execute_result"
    }
   ],
   "source": [
    "BrazilPopulationPerNeighbourhoodDataReduced = BrazilPopulationPerNeighbourhoodData.copy()\n",
    "BrazilPopulationPerNeighbourhoodDataReduced.drop(columns = ['Nível','Sexo','Idade'], inplace = True)\n",
    "BrazilPopulationPerNeighbourhoodDataReduced.rename(columns = {'Bairro': 'NeighbourhoodComposed', 'Total': 'Population'}, inplace = True)\n",
    "BrazilPopulationPerNeighbourhoodDataReduced.head()"
   ]
  },
  {
   "cell_type": "markdown",
   "metadata": {},
   "source": [
    ">This is the Population Dataset that we will performe Data Wrangling and explore more."
   ]
  },
  {
   "cell_type": "markdown",
   "metadata": {},
   "source": [
    "#### 2.1.4 Rio de Janeiro Foursquare Data <a class = 'anchor' id = 'section_2_1_4'></a>\n",
    ">The Data of Brazilian Restaurants will be discovered from the Foursquare location platform, https://developer.foursquare.com\n",
    ">\n",
    ">To limit the types of venues, we will use the \"Brazilian Restaurant Category\" that can be found at https://developer.foursquare.com/docs/build-with-foursquare/categories/"
   ]
  },
  {
   "cell_type": "markdown",
   "metadata": {},
   "source": [
    "##### 2.1.4.1 The Foursquare Categories to be used"
   ]
  },
  {
   "cell_type": "markdown",
   "metadata": {},
   "source": [
    ">These are the different restuarant categories that we will try to find and explore in each neighbourhood:\n",
    ">\n",
    ">* Brazilian Restaurant\n",
    "    * Acai House\n",
    "    * Baiano Restaurant\n",
    "    * Central Brazilian Restaurant\n",
    "    * Churrascaria\n",
    "    * Empada House\n",
    "    * Goiano Restaurant\n",
    "    * Mineiro Restaurant\n",
    "    * Norteastern Brazilian Restaurant\n",
    "    * Northern Brazilian Restaurant\n",
    "    * Pastelaria\n",
    "    * Southeastern Brazilian Restaurant\n",
    "    * Southern Brazilian Restaurant\n",
    "    * Tapiocaria"
   ]
  },
  {
   "cell_type": "markdown",
   "metadata": {},
   "source": [
    "##### 2.1.4.2 The Foursquare Credentials and Version"
   ]
  },
  {
   "cell_type": "code",
   "execution_count": 10,
   "metadata": {},
   "outputs": [],
   "source": [
    "# @hidden_cell\n",
    "CLIENT_ID = '5ZFTKSMHL3CRCN4N2KRZSSBWCXR1ENL230ZGVTVA1QEITZKD'\n",
    "CLIENT_SECRET = 'WDSN0USS2CNSKC2ZT1YKJ1UGP4HOGB4TNHTPDIES0ZYO02VH'\n",
    "VERSION = '20180605'"
   ]
  },
  {
   "cell_type": "markdown",
   "metadata": {},
   "source": [
    "#### 2.1.5 Methodology <a class = 'anchor' id = 'section_2_1_5'></a>\n",
    ">In order to find the right neighbourhood(s) for the stakeholders, we will explore the demographics of the Rio de Janeiro City neighbourhoods by segmenting the data and make descriptive analysis using Panda. First we will perform data wrangling the Neigbourhood and the Population Datasets, select the data we need and then merge them before make any further analysis.\n",
    ">\n",
    ">Secondly, with the two Datasets cleaned and merged, we will use this Dataset to explore the Neighbourhoods to discover the Brazilian restaurants through the Foursquare location platform. With the Restaurant Data from Foursquare we will then cluster the Neighbourhoods by using k-means. To find the best K value we will use the Yellowbrick KElbowVisualizer. We will also viualize and examine these clusters.\n",
    ">\n",
    ">Thirdly, with some final explorations and analysis done, we will make the final conclusions of the data and give recommendations from this Brazilian restaurant study."
   ]
  }
 ],
 "metadata": {
  "kernelspec": {
   "display_name": "Python 3",
   "language": "python",
   "name": "python3"
  },
  "language_info": {
   "codemirror_mode": {
    "name": "ipython",
    "version": 3
   },
   "file_extension": ".py",
   "mimetype": "text/x-python",
   "name": "python",
   "nbconvert_exporter": "python",
   "pygments_lexer": "ipython3",
   "version": "3.7.6"
  }
 },
 "nbformat": 4,
 "nbformat_minor": 4
}
