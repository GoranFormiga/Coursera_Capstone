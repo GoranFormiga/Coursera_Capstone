{
 "cells": [
  {
   "cell_type": "markdown",
   "metadata": {},
   "source": [
    "# The Battle of Neighbourhoods"
   ]
  },
  {
   "cell_type": "markdown",
   "metadata": {},
   "source": [
    "![Image](https:www.tupiniquimhostel.com.br/wp/wp-content/uploads/2016/11/Cristo-Redentor-800x250.jpg)"
   ]
  },
  {
   "cell_type": "markdown",
   "metadata": {},
   "source": [
    "## A study of the Rio de Janeiro City Brazilian Restaurants"
   ]
  },
  {
   "cell_type": "markdown",
   "metadata": {},
   "source": [
    "## Table of Content\n",
    "\n",
    "* [1. Introduction](#chapter1)\n",
    "    * [1.1 Purpose](#section_1_1)\n",
    "    * [1.2 Geographical location](#section_1_2)\n",
    "    * [1.3 Problem Description](#section_1_3)\n",
    "    * [1.4 Stakeholders](#section_1_4)"
   ]
  },
  {
   "cell_type": "markdown",
   "metadata": {},
   "source": [
    "## 1. Introduction <a class='anchor' id='chapter1'></a>"
   ]
  },
  {
   "cell_type": "markdown",
   "metadata": {},
   "source": [
    "### 1.1 Purpose <a class = 'anchor' id = 'section_1_1'></a>\n",
    ">This Jupyter notebook is part of the Course Assignment for the IBM Data Science Professional Certificate."
   ]
  },
  {
   "cell_type": "markdown",
   "metadata": {},
   "source": [
    "### 1.2 Geographical location <a class = 'anchor' id = 'section_1_2'></a>\n",
    ">Rio de Janeiro is the second most populous municipality in Brazil with 6.72 million inhabitants according to the 2019 statistics. There are 16 boroughs and 163 neighbourhoods in Rio de Janeiro. It is the capital of the state of Rio de Janeiro and has headquarters to Brazilian oil, mining and telecomunication companies. Rio de Janeiro is one of the most visitered cities in the South America and it is known for the \"Christ the Redeemer\" statue, the \"Sugarloaf\" Mountain, Carnaval, Samba, Bossa Nova and the beaches, https://en.wikipedia.org/wiki/Rio_de_Janeiro. An other interesting thing is the number of bars and restaurants with tastes from all over the world. We are going to focus our study on the Brazilian Restaurants in the following two  boroughs:\n",
    ">* The South Zone (Zona Sul), https://en.wikipedia.org/wiki/Rio_de_Janeiro#South_Zone\n",
    ">* Central Zone (Centro), https://en.wikipedia.org/wiki/Rio_de_Janeiro#Central_Zone\n",
    ">\n",
    ">These two boroughs have together 32 neighbourhoods that are common locations for the stakeholders involved in this study."
   ]
  },
  {
   "cell_type": "markdown",
   "metadata": {},
   "source": [
    "### 1.3 Problem Description <a class = 'anchor' id = 'section_1_3'></a>\n",
    ">The big challenge for a restaurant invester is to know where to invest in a particular restaurant category and where to place the restaurant to get the best result of the investment. For the investor several factors must be taken into account such as:\n",
    ">\n",
    ">* Who are the competitors in each borough/neighbourhood?\n",
    ">* Which pricing do they have?\n",
    ">* What is their Menu?\n",
    ">* What type of clients local, turists, etc are there in each location?\n",
    ">* What kind of borough/neigbourhood, residencial or business area?\n",
    ">* How many competitors for each restaurant category?\n",
    ">* etc.\n",
    ">\n",
    ">For a tourist, with the taste for restaurants of the visited city, the challenge is to find the best spot and location and therefore other factors are important such as:\n",
    ">* What restaurant categories are there in each borough/neigbourhood?\n",
    ">* The distance to each restaurant of interest?\n",
    ">* etc.\n",
    ">\n",
    ">We are going to focus our study to investigate the Brazilian Restaurant categories in different boroughs and neigbourhoods. Besides Brazilian restaurants with regional dishes we will see that there are several Brazilian restaurants with specialities such as, Acai, Churrasco, Empada, Pastelaria and Tapioca.\n",
    ">\n",
    ">By using some Data Science techniques we will study these restaurant categories and locations and as result, make some observations and recommendations according to our findings."
   ]
  },
  {
   "cell_type": "markdown",
   "metadata": {},
   "source": [
    "### 1.4 Stakeholders <a class = 'anchor' id = 'section_1_4'></a>\n",
    "> The people who would be interested in this study will be investers in the Brazilian Restaurant Business but also turists who would like to know the best loction and what kind of Brazilian restaurants that are available of their interest in the two different boroughs, \"The South Zone\" and the \"Central Zone\" of Rio de Janeiro."
   ]
  }
 ],
 "metadata": {
  "kernelspec": {
   "display_name": "Python 3",
   "language": "python",
   "name": "python3"
  },
  "language_info": {
   "codemirror_mode": {
    "name": "ipython",
    "version": 3
   },
   "file_extension": ".py",
   "mimetype": "text/x-python",
   "name": "python",
   "nbconvert_exporter": "python",
   "pygments_lexer": "ipython3",
   "version": "3.7.6"
  }
 },
 "nbformat": 4,
 "nbformat_minor": 4
}
